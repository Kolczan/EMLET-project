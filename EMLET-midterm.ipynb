{
  "metadata": {
    "kernelspec": {
      "name": "python",
      "display_name": "Python (Pyodide)",
      "language": "python"
    },
    "language_info": {
      "name": ""
    }
  },
  "nbformat_minor": 4,
  "nbformat": 4,
  "cells": [
    {
      "cell_type": "markdown",
      "source": "# <p style=\"text-align: center;\">EMLET</p> <p style=\"text-align: center;\">Mid-term project raport</p> <p style=\"text-align: center;\">Title: Cryptocurrencies Price Forecasting</p> <p style=\"text-align: center;\">Marcin Kołacz 283492</p> <p style=\"text-align: center;\">15th April 2024</p> ",
      "metadata": {}
    },
    {
      "cell_type": "markdown",
      "source": "## Project topic\nThis midterm report presents the progress made in machine learning project aimed at predicting future cryptocurrency prices. Cryptocurrencies have gained significant attention in recent years, with their prices being highly volatile and influenced by various factors. The goal is to develop a ML model that can effectively forecast cryptocurrency prices based on historical data.\n\nIn this report, I will outline the problem statement, describe the dataset chosen for this project, and present preliminary analysis conducted on the dataset.s",
      "metadata": {}
    },
    {
      "cell_type": "markdown",
      "source": "## Problem statement\nThe primary objective of this project is to build a predictive model that can forecast the future prices of cryptocurrencies. Given the historical data of various cryptocurrencies, we aim to develop a model that can accurately predict their prices over a specified time horizon.\n\nKey components of the problem statement include:\n- Data Collection: Gathering historical cryptocurrency price data.\n- Feature Engineering: Selecting relevant features that could influence cryptocurrency prices.\n- Model Selection: Choosing appropriate machine learning algorithms for prediction.\n- Evaluation Metrics: Determining metrics to evaluate the performance of the predictive model.\n\nThe ultimate goal is to create a model that traders and investors can use to make informed decisions in the cryptocurrency market.\n",
      "metadata": {}
    },
    {
      "cell_type": "markdown",
      "source": "## Dataset\nFor this project, I am utilizing the cryptocurrency daily prices dataset sourced from Kaggle (https://www.kaggle.com/datasets/svaningelgem/crypto-currencies-daily-prices). The dataset contains historical daily prices of various top cryptocurrencies, including Bitcoin, Ethereum, Ripple, Litecoin, and others.\r\n\r\nKey attributes of the dataset include:\r\n- Date: The date of the recorded price.\r\n- Symbol: The symbol or abbreviation of the cryptocurrency.\r\n- Open, High, Low, Close: The opening, highest, lowest, and closing prices of the cryptocurrency on the given date.\r\n- Volume: The trading volume of the cryptocurrency on the given date.\r\n- Market Cap: The market capitalization of the cryptocurrency on the given date.\r\n\r\nThe dataset spans a significant time period, allowing us to train our predictive model on a diverse range of market co Remembering that cryptocurrency market is a very volatile one, the dataset makes it possible to train the model on data from both bull- and bear-markets. nditions.\r\n",
      "metadata": {}
    },
    {
      "cell_type": "markdown",
      "source": "## Preliminary Data Analysis",
      "metadata": {}
    },
    {
      "cell_type": "code",
      "source": "# Import necessary libraries\nimport pandas as pd\nimport matplotlib.pyplot as plt\n\n# Load the dataset\ncrypto_data = pd.read_csv(\"crypto_datasheets/BTC.csv\")\n\n# Display the first few rows of the dataset\ncrypto_data.head()\n\n# Summary statistics of the dataset\ncrypto_data.describe()\n\n# Check for missing values\ncrypto_data.isnull().sum()\n\n# Data visualization (e.g., time series plot, distribution plots)\n# Example:\n\n\n# Time series plot of Bitcoin prices\nbitcoin_data = crypto_data[crypto_data['Symbol'] == 'BTC']\nplt.figure(figsize=(12, 6))\nplt.plot(bitcoin_data['Date'], bitcoin_data['Close'], label='Bitcoin Price')\nplt.xlabel('Date')\nplt.ylabel('Price (USD)')\nplt.title('Bitcoin Price Over Time')\nplt.legend()\nplt.show()",
      "metadata": {
        "trusted": true
      },
      "outputs": [],
      "execution_count": null
    },
    {
      "cell_type": "code",
      "source": "",
      "metadata": {
        "trusted": true
      },
      "outputs": [],
      "execution_count": null
    }
  ]
}